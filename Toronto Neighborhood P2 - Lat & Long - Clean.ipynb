{
    "cells": [
        {
            "cell_type": "markdown",
            "metadata": {},
            "source": "This is a notebook to parse the neighborhood and postal codes for Toronto as part of the Coursera Capstone Project Week 3 assignment.\n\nWe add the latitude and longitude to the previous dataframe containing the postal, borough, neighborhoods of Toronto."
        },
        {
            "cell_type": "markdown",
            "metadata": {},
            "source": "First we load the needed libraries."
        },
        {
            "cell_type": "code",
            "execution_count": 3,
            "metadata": {},
            "outputs": [
                {
                    "name": "stdout",
                    "output_type": "stream",
                    "text": "Requirement already satisfied: beautifulsoup4 in /opt/conda/envs/Python36/lib/python3.6/site-packages (4.7.1)\nRequirement already satisfied: soupsieve>=1.2 in /opt/conda/envs/Python36/lib/python3.6/site-packages (from beautifulsoup4) (1.7.1)\nRequirement already satisfied: lxml in /opt/conda/envs/Python36/lib/python3.6/site-packages (4.3.1)\nAll imported correctly\n"
                }
            ],
            "source": "# Import numpy and pandas\nimport numpy as np\nimport pandas as pd\n\n# install beautifulsoup and lxml\n!pip install beautifulsoup4\n!pip install lxml\n\n# import beautifulsoup and requests\nfrom bs4 import BeautifulSoup\nimport requests\n\nprint('All imported correctly')"
        },
        {
            "cell_type": "markdown",
            "metadata": {},
            "source": "Then we perform the same steps that we did on P1 - Dataframe - Clean notebook to scrape the neighborhood data from Wikipedia."
        },
        {
            "cell_type": "code",
            "execution_count": 46,
            "metadata": {},
            "outputs": [
                {
                    "name": "stdout",
                    "output_type": "stream",
                    "text": "Shape is:  (103, 3)\n"
                },
                {
                    "data": {
                        "text/html": "<div>\n<style scoped>\n    .dataframe tbody tr th:only-of-type {\n        vertical-align: middle;\n    }\n\n    .dataframe tbody tr th {\n        vertical-align: top;\n    }\n\n    .dataframe thead th {\n        text-align: right;\n    }\n</style>\n<table border=\"1\" class=\"dataframe\">\n  <thead>\n    <tr style=\"text-align: right;\">\n      <th></th>\n      <th>Postcode</th>\n      <th>Borough</th>\n      <th>Neighborhood</th>\n    </tr>\n  </thead>\n  <tbody>\n    <tr>\n      <th>0</th>\n      <td>M1B</td>\n      <td>Scarborough</td>\n      <td>Rouge, Malvern</td>\n    </tr>\n    <tr>\n      <th>1</th>\n      <td>M1C</td>\n      <td>Scarborough</td>\n      <td>Highland Creek, Rouge Hill, Port Union</td>\n    </tr>\n    <tr>\n      <th>2</th>\n      <td>M1E</td>\n      <td>Scarborough</td>\n      <td>Guildwood, Morningside, West Hill</td>\n    </tr>\n    <tr>\n      <th>3</th>\n      <td>M1G</td>\n      <td>Scarborough</td>\n      <td>Woburn</td>\n    </tr>\n    <tr>\n      <th>4</th>\n      <td>M1H</td>\n      <td>Scarborough</td>\n      <td>Cedarbrae</td>\n    </tr>\n    <tr>\n      <th>5</th>\n      <td>M1J</td>\n      <td>Scarborough</td>\n      <td>Scarborough Village</td>\n    </tr>\n    <tr>\n      <th>6</th>\n      <td>M1K</td>\n      <td>Scarborough</td>\n      <td>East Birchmount Park, Ionview, Kennedy Park</td>\n    </tr>\n    <tr>\n      <th>7</th>\n      <td>M1L</td>\n      <td>Scarborough</td>\n      <td>Clairlea, Golden Mile, Oakridge</td>\n    </tr>\n    <tr>\n      <th>8</th>\n      <td>M1M</td>\n      <td>Scarborough</td>\n      <td>Cliffcrest, Cliffside, Scarborough Village West</td>\n    </tr>\n    <tr>\n      <th>9</th>\n      <td>M1N</td>\n      <td>Scarborough</td>\n      <td>Birch Cliff, Cliffside West</td>\n    </tr>\n  </tbody>\n</table>\n</div>",
                        "text/plain": "  Postcode      Borough                                     Neighborhood\n0      M1B  Scarborough                                   Rouge, Malvern\n1      M1C  Scarborough           Highland Creek, Rouge Hill, Port Union\n2      M1E  Scarborough                Guildwood, Morningside, West Hill\n3      M1G  Scarborough                                           Woburn\n4      M1H  Scarborough                                        Cedarbrae\n5      M1J  Scarborough                              Scarborough Village\n6      M1K  Scarborough      East Birchmount Park, Ionview, Kennedy Park\n7      M1L  Scarborough                  Clairlea, Golden Mile, Oakridge\n8      M1M  Scarborough  Cliffcrest, Cliffside, Scarborough Village West\n9      M1N  Scarborough                      Birch Cliff, Cliffside West"
                    },
                    "execution_count": 46,
                    "metadata": {},
                    "output_type": "execute_result"
                }
            ],
            "source": "# this loads the values to the dataframe (refer to P1 - Dataframe - Clean notebook for more details)\n# set URL\nurl='https://en.wikipedia.org/wiki/List_of_postal_codes_of_Canada:_M'\nurl\n\n# gets the source code of the website\nsource = requests.get(url).text\nsoup = BeautifulSoup(source, 'lxml')\n\n# prints the source code in a more readable format\n# print(soup.prettify())\n\n# create new dataframe with column names\ncolumn_names = ['Postcode','Borough','Neighborhood']\ntable = pd.DataFrame(columns=column_names)\n\n# loops through the webpage source code to find the table entries with 'tr' and 'td' markers and adds them to the dataframe\nfor entry in soup.find_all('tr', class_=None):\n        \n    try:\n        postcode    =entry.find_all('td', class_=None)[0].text\n        borough     =entry.find_all('td', class_=None)[1].text\n        neighborhood=entry.find_all('td', class_=None)[2].text\n        table = table.append({'Postcode':postcode,'Borough':borough,'Neighborhood':neighborhood},ignore_index=True)\n\n    except:\n        continue\n\n# copy table to table2 (for cleaning)\ntable2=table.copy()\n\n# remove last 3 rows with unrelated data\ntable2=table2[:-3]\n\n# remove \\n from neighborhood values\ntable2.replace(r'\\n','',regex=True,inplace=True)\n\n# copy table2 to table3 for removal of unassigned rows\ntable3=table2.copy()\n\n# drop unassigned boroughs\ntable3.drop(table3.index[table3['Borough']=='Not assigned'],inplace=True)\n\n# reset the count of the index so as not to skip the dropped rows\ntable3.reset_index(drop=True,inplace=True)\n\n# set unassigned neighborhoods to be the same value as that of the borough\nfor index in table3[table3['Neighborhood']=='Not assigned'].index:\n#     print(\"Value to be replaced: \", table3.loc[index,'Neighborhood'])\n#     print(\"Value to replace with: \", table3.loc[index,'Borough'])\n    table3.loc[index,'Neighborhood']=table3.loc[index,'Borough']\n\n# merges neighborhood values for the same postal code and borough\ntable3=table3.groupby(['Postcode','Borough'])['Neighborhood'].apply(lambda tags: ', '.join(tags)).to_frame().reset_index()\n\n# prints the final shape of the dataframe\nprint(\"Shape is: \", table3.shape)\n\n# display final table\ntable3.head(10)"
        },
        {
            "cell_type": "markdown",
            "metadata": {},
            "source": "This is our attempt at using geocoder to get the latitude and longitude. However, after several iterations with None returned, we used the csv instead."
        },
        {
            "cell_type": "code",
            "execution_count": 47,
            "metadata": {},
            "outputs": [],
            "source": "# install geocoder\n# !pip install geocoder\n\n# import geocoder\n# import geocoder\n\n# initialize your variable to None\n# lat_lng_coords = None\n\n# add latitude and longitude columns to dataframe\n# table3 = table3.reindex(table3.columns.tolist() + ['Latitude','Longitude'], axis=1)\n# i=0\n# j=0\n\n# loop until you get the coordinates for postal codes in dataframe\n# for index in table3['Postcode'].index:\n#     while(lat_lng_coords is None):\n#         g = geocoder.google('{}, Toronto, Ontario'.format(table3.loc[index,'Postcode']))\n#         lat_lng_coords = g.latlng\n#         j=j+1\n#         print(\"Run: \",j)\n#     table3.loc[index,'Latitude'] = lat_lng_coords[0]\n#     table3.loc[index,'Longitude'] = lat_lng_coords[1]\n#     i=i+1\n# print(\"Row: \", i, \" for postcode: \", table3.loc[index,'Postcode'])\n# print(\"Latitude: \", table3.loc[index,'Latitude'])\n# print(\"Longitude: \", table3.loc[index,'Longitude'])\n\n# table3.head(15)"
        },
        {
            "cell_type": "markdown",
            "metadata": {},
            "source": "These next steps load the latitude and longitude data from the csv file provided and use the merge function to combine the 2 dataframes."
        },
        {
            "cell_type": "code",
            "execution_count": 49,
            "metadata": {
                "scrolled": true
            },
            "outputs": [
                {
                    "data": {
                        "text/html": "<div>\n<style scoped>\n    .dataframe tbody tr th:only-of-type {\n        vertical-align: middle;\n    }\n\n    .dataframe tbody tr th {\n        vertical-align: top;\n    }\n\n    .dataframe thead th {\n        text-align: right;\n    }\n</style>\n<table border=\"1\" class=\"dataframe\">\n  <thead>\n    <tr style=\"text-align: right;\">\n      <th></th>\n      <th>Postal Code</th>\n      <th>Latitude</th>\n      <th>Longitude</th>\n    </tr>\n  </thead>\n  <tbody>\n    <tr>\n      <th>0</th>\n      <td>M1B</td>\n      <td>43.806686</td>\n      <td>-79.194353</td>\n    </tr>\n    <tr>\n      <th>1</th>\n      <td>M1C</td>\n      <td>43.784535</td>\n      <td>-79.160497</td>\n    </tr>\n    <tr>\n      <th>2</th>\n      <td>M1E</td>\n      <td>43.763573</td>\n      <td>-79.188711</td>\n    </tr>\n    <tr>\n      <th>3</th>\n      <td>M1G</td>\n      <td>43.770992</td>\n      <td>-79.216917</td>\n    </tr>\n    <tr>\n      <th>4</th>\n      <td>M1H</td>\n      <td>43.773136</td>\n      <td>-79.239476</td>\n    </tr>\n  </tbody>\n</table>\n</div>",
                        "text/plain": "  Postal Code   Latitude  Longitude\n0         M1B  43.806686 -79.194353\n1         M1C  43.784535 -79.160497\n2         M1E  43.763573 -79.188711\n3         M1G  43.770992 -79.216917\n4         M1H  43.773136 -79.239476"
                    },
                    "execution_count": 49,
                    "metadata": {},
                    "output_type": "execute_result"
                }
            ],
            "source": "# load the latitude and longitude data from csv file\nlatlng_file = 'https://cocl.us/Geospatial_data'\nlatlng = pd.read_csv(latlng_file)\nlatlng.head()"
        },
        {
            "cell_type": "code",
            "execution_count": 50,
            "metadata": {},
            "outputs": [
                {
                    "data": {
                        "text/html": "<div>\n<style scoped>\n    .dataframe tbody tr th:only-of-type {\n        vertical-align: middle;\n    }\n\n    .dataframe tbody tr th {\n        vertical-align: top;\n    }\n\n    .dataframe thead th {\n        text-align: right;\n    }\n</style>\n<table border=\"1\" class=\"dataframe\">\n  <thead>\n    <tr style=\"text-align: right;\">\n      <th></th>\n      <th>Postcode</th>\n      <th>Borough</th>\n      <th>Neighborhood</th>\n      <th>Latitude</th>\n      <th>Longitude</th>\n    </tr>\n  </thead>\n  <tbody>\n    <tr>\n      <th>0</th>\n      <td>M1B</td>\n      <td>Scarborough</td>\n      <td>Rouge, Malvern</td>\n      <td>43.806686</td>\n      <td>-79.194353</td>\n    </tr>\n    <tr>\n      <th>1</th>\n      <td>M1C</td>\n      <td>Scarborough</td>\n      <td>Highland Creek, Rouge Hill, Port Union</td>\n      <td>43.784535</td>\n      <td>-79.160497</td>\n    </tr>\n    <tr>\n      <th>2</th>\n      <td>M1E</td>\n      <td>Scarborough</td>\n      <td>Guildwood, Morningside, West Hill</td>\n      <td>43.763573</td>\n      <td>-79.188711</td>\n    </tr>\n    <tr>\n      <th>3</th>\n      <td>M1G</td>\n      <td>Scarborough</td>\n      <td>Woburn</td>\n      <td>43.770992</td>\n      <td>-79.216917</td>\n    </tr>\n    <tr>\n      <th>4</th>\n      <td>M1H</td>\n      <td>Scarborough</td>\n      <td>Cedarbrae</td>\n      <td>43.773136</td>\n      <td>-79.239476</td>\n    </tr>\n  </tbody>\n</table>\n</div>",
                        "text/plain": "  Postcode      Borough                            Neighborhood   Latitude  \\\n0      M1B  Scarborough                          Rouge, Malvern  43.806686   \n1      M1C  Scarborough  Highland Creek, Rouge Hill, Port Union  43.784535   \n2      M1E  Scarborough       Guildwood, Morningside, West Hill  43.763573   \n3      M1G  Scarborough                                  Woburn  43.770992   \n4      M1H  Scarborough                               Cedarbrae  43.773136   \n\n   Longitude  \n0 -79.194353  \n1 -79.160497  \n2 -79.188711  \n3 -79.216917  \n4 -79.239476  "
                    },
                    "execution_count": 50,
                    "metadata": {},
                    "output_type": "execute_result"
                }
            ],
            "source": "# remove latitude and longitude columns from dataframe\ntable3=table3.iloc[:,0:3]\n\n# use merge to get latitude and longitude data on main dataframe\ntable3 = pd.merge(table3, latlng, how='left',\n        left_on='Postcode', right_on='Postal Code')\n\n# remove the duplicate postal code column from csv file\ntable3.drop('Postal Code',axis=1,inplace=True)\n\ntable3.head()"
        },
        {
            "cell_type": "code",
            "execution_count": 52,
            "metadata": {},
            "outputs": [
                {
                    "data": {
                        "text/html": "<div>\n<style scoped>\n    .dataframe tbody tr th:only-of-type {\n        vertical-align: middle;\n    }\n\n    .dataframe tbody tr th {\n        vertical-align: top;\n    }\n\n    .dataframe thead th {\n        text-align: right;\n    }\n</style>\n<table border=\"1\" class=\"dataframe\">\n  <thead>\n    <tr style=\"text-align: right;\">\n      <th></th>\n      <th>Postcode</th>\n      <th>Borough</th>\n      <th>Neighborhood</th>\n      <th>Latitude</th>\n      <th>Longitude</th>\n    </tr>\n  </thead>\n  <tbody>\n    <tr>\n      <th>count</th>\n      <td>103</td>\n      <td>103</td>\n      <td>103</td>\n      <td>103.000000</td>\n      <td>103.000000</td>\n    </tr>\n    <tr>\n      <th>unique</th>\n      <td>103</td>\n      <td>11</td>\n      <td>102</td>\n      <td>NaN</td>\n      <td>NaN</td>\n    </tr>\n    <tr>\n      <th>top</th>\n      <td>M1P</td>\n      <td>North York</td>\n      <td>Queen's Park</td>\n      <td>NaN</td>\n      <td>NaN</td>\n    </tr>\n    <tr>\n      <th>freq</th>\n      <td>1</td>\n      <td>24</td>\n      <td>2</td>\n      <td>NaN</td>\n      <td>NaN</td>\n    </tr>\n    <tr>\n      <th>mean</th>\n      <td>NaN</td>\n      <td>NaN</td>\n      <td>NaN</td>\n      <td>43.704608</td>\n      <td>-79.397153</td>\n    </tr>\n    <tr>\n      <th>std</th>\n      <td>NaN</td>\n      <td>NaN</td>\n      <td>NaN</td>\n      <td>0.052463</td>\n      <td>0.097146</td>\n    </tr>\n    <tr>\n      <th>min</th>\n      <td>NaN</td>\n      <td>NaN</td>\n      <td>NaN</td>\n      <td>43.602414</td>\n      <td>-79.615819</td>\n    </tr>\n    <tr>\n      <th>25%</th>\n      <td>NaN</td>\n      <td>NaN</td>\n      <td>NaN</td>\n      <td>43.660567</td>\n      <td>-79.464763</td>\n    </tr>\n    <tr>\n      <th>50%</th>\n      <td>NaN</td>\n      <td>NaN</td>\n      <td>NaN</td>\n      <td>43.696948</td>\n      <td>-79.388790</td>\n    </tr>\n    <tr>\n      <th>75%</th>\n      <td>NaN</td>\n      <td>NaN</td>\n      <td>NaN</td>\n      <td>43.745320</td>\n      <td>-79.340923</td>\n    </tr>\n    <tr>\n      <th>max</th>\n      <td>NaN</td>\n      <td>NaN</td>\n      <td>NaN</td>\n      <td>43.836125</td>\n      <td>-79.160497</td>\n    </tr>\n  </tbody>\n</table>\n</div>",
                        "text/plain": "       Postcode     Borough  Neighborhood    Latitude   Longitude\ncount       103         103           103  103.000000  103.000000\nunique      103          11           102         NaN         NaN\ntop         M1P  North York  Queen's Park         NaN         NaN\nfreq          1          24             2         NaN         NaN\nmean        NaN         NaN           NaN   43.704608  -79.397153\nstd         NaN         NaN           NaN    0.052463    0.097146\nmin         NaN         NaN           NaN   43.602414  -79.615819\n25%         NaN         NaN           NaN   43.660567  -79.464763\n50%         NaN         NaN           NaN   43.696948  -79.388790\n75%         NaN         NaN           NaN   43.745320  -79.340923\nmax         NaN         NaN           NaN   43.836125  -79.160497"
                    },
                    "execution_count": 52,
                    "metadata": {},
                    "output_type": "execute_result"
                }
            ],
            "source": "# confirm all columns have data for the same number of rows\ntable3.describe(include='all')"
        },
        {
            "cell_type": "code",
            "execution_count": null,
            "metadata": {},
            "outputs": [],
            "source": ""
        }
    ],
    "metadata": {
        "kernelspec": {
            "display_name": "Python 3.6",
            "language": "python",
            "name": "python3"
        },
        "language_info": {
            "codemirror_mode": {
                "name": "ipython",
                "version": 3
            },
            "file_extension": ".py",
            "mimetype": "text/x-python",
            "name": "python",
            "nbconvert_exporter": "python",
            "pygments_lexer": "ipython3",
            "version": "3.6.8"
        }
    },
    "nbformat": 4,
    "nbformat_minor": 1
}